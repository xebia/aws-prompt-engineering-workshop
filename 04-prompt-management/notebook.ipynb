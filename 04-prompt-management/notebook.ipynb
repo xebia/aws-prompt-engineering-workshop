{
  "cells": [
    {
      "metadata": {},
      "cell_type": "markdown",
      "source": [
        "# Prompt management\n",
        "\n",
        "In this next section, I\u2019ll introduce you to some basic prompt management."
      ],
      "id": "75c17393a09dc27f"
    },
    {
      "metadata": {},
      "cell_type": "code",
      "outputs": [],
      "execution_count": null,
      "source": "!pip install -r requirements.txt --quiet",
      "id": "1dff2e6a841bb4e5"
    },
    {
      "metadata": {},
      "cell_type": "markdown",
      "source": [
        "## Set up helper functions\n",
        "\n",
        "For this exercise we will need some additional helper functions. We will make use of Amazon Bedrock Prompt Management, as part of the workshop preparations we deployed a prompt that you can manage from prompt management. But we do need to retrieve what prompt belongs to your workshop instance."
      ],
      "id": "486a6b6bbc87a8e6"
    },
    {
      "metadata": {},
      "cell_type": "code",
      "outputs": [],
      "execution_count": null,
      "source": [
        "import sys\n",
        "import os\n",
        "from IPython.display import Markdown, display\n",
        "\n",
        "current_dir = os.path.dirname(os.path.abspath('__file__' if '__file__' in globals() else '.'))\n",
        "sys.path.insert(0, current_dir)\n",
        "\n",
        "from utils import resolve_user_settings, run_managed_prompt"
      ],
      "id": "7d1c0db8053cc230"
    },
    {
      "metadata": {},
      "cell_type": "markdown",
      "source": [
        "## Retrieve user settings\n",
        "\n",
        "The user settings will tell us what this user has access to during the exercises."
      ],
      "id": "6fc7b82072fbd383"
    },
    {
      "metadata": {},
      "cell_type": "code",
      "outputs": [],
      "execution_count": null,
      "source": [
        "username = os.environ.get('USERNAME')\n",
        "settings = resolve_user_settings(username)\n",
        "print(settings)"
      ],
      "id": "36b7eefcad4ee5df"
    },
    {
      "metadata": {},
      "cell_type": "markdown",
      "source": [
        "## Amazon Bedrock Prompt Management\n",
        "\n",
        "Amazon Bedrock Prompt Management is a feature within the Bedrock AgentCore suite that helps you organize, store, and manage prompts for generative AI models. It enables you to maintain conversation state, reuse prompt templates, and optimize interactions with models by providing tools for session management, memory persistence, and runtime hosting. This makes it easier to build production-ready AI agents that deliver consistent, context-aware responses and streamline prompt engineering workflows."
      ],
      "id": "45123f2a511cc9e2"
    },
    {
      "metadata": {},
      "cell_type": "code",
      "outputs": [],
      "execution_count": null,
      "source": [
        "# input_vars = {'customer_name': 'Alice', 'issue_type': 'billing'}\n",
        "\n",
        "input_vars = {'customer_name': {\"text\": 'Alice'}, 'issue_type': {\"text\": 'billing'}}\n",
        "\n",
        "response = run_managed_prompt(settings[\"managed-prompt\"], input_vars)\n",
        "\n",
        "display(Markdown(response))"
      ],
      "id": "f7e0d1f9b54e9ef6"
    }
  ],
  "metadata": {
    "kernelspec": {
      "display_name": "Python 3",
      "language": "python",
      "name": "python3"
    },
    "language_info": {
      "codemirror_mode": {
        "name": "ipython",
        "version": 2
      },
      "file_extension": ".py",
      "mimetype": "text/x-python",
      "name": "python",
      "nbconvert_exporter": "python",
      "pygments_lexer": "ipython2",
      "version": "2.7.6"
    }
  },
  "nbformat": 4,
  "nbformat_minor": 5
}
